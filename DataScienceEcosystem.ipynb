{
 "cells": [
  {
   "cell_type": "markdown",
   "id": "13fa9624-9789-4bd6-a0bf-fdf494393142",
   "metadata": {},
   "source": [
    "# Data Science Tools and Ecosystem"
   ]
  },
  {
   "cell_type": "markdown",
   "id": "e4db5735-5d70-4d41-ab66-f50b3cfd5f21",
   "metadata": {},
   "source": [
    "# In this notebook, Data Science Tools and Ecosystem are summerized."
   ]
  },
  {
   "cell_type": "markdown",
   "id": "47b67554-f3f7-4e25-89be-1c03eb8eeee4",
   "metadata": {},
   "source": [
    "# Some of the popular languages that Data Scientists use are:\n",
    "1. Python\n",
    "2. R\n",
    "3. SQL\n",
    "4. Julia\n",
    "5. Java\n",
    "6. etc."
   ]
  },
  {
   "cell_type": "markdown",
   "id": "b962359a-4a46-4bef-8066-257207e60f79",
   "metadata": {},
   "source": [
    "# Some of the commonly used libraries used by Data Scientists include:\n",
    "1. NumPy\n",
    "2. Matplotlib\n",
    "3. TensorFlow\n",
    "4. Pandas\n",
    "5. etc."
   ]
  },
  {
   "cell_type": "markdown",
   "id": "236fbadf-fc0e-4637-b658-9e5d208f3473",
   "metadata": {},
   "source": [
    "| Data Science Tools |\n",
    "| --- |\n",
    "Anaconda\n",
    "Jupyter Project\n",
    "RStudio"
   ]
  },
  {
   "cell_type": "markdown",
   "id": "fe956870-962a-4af4-8bd1-3f3436b65bba",
   "metadata": {},
   "source": [
    "### Below are a few examples of evaluating arithmetic expressions in Python"
   ]
  },
  {
   "cell_type": "code",
   "execution_count": 4,
   "id": "47ae8cdf-1672-4c25-aa6d-09228cf8356e",
   "metadata": {},
   "outputs": [
    {
     "data": {
      "text/plain": [
       "17"
      ]
     },
     "execution_count": 4,
     "metadata": {},
     "output_type": "execute_result"
    }
   ],
   "source": [
    "# This a simple arithmetic expression to mutiply then add integers\n",
    "(3*4)+5"
   ]
  },
  {
   "cell_type": "code",
   "execution_count": 5,
   "id": "57c9ed12-f5ff-4b43-a4c6-1ceeef2d0f98",
   "metadata": {},
   "outputs": [
    {
     "data": {
      "text/plain": [
       "3.3333333333333335"
      ]
     },
     "execution_count": 5,
     "metadata": {},
     "output_type": "execute_result"
    }
   ],
   "source": [
    "# This will convert 200 minutes to hours by diving by 60\n",
    "200/60"
   ]
  },
  {
   "cell_type": "markdown",
   "id": "576126e9-20af-4290-a133-5770a7df555f",
   "metadata": {},
   "source": [
    "**Objectives:**\n",
    "- Data Science Tools\n",
    "- Popular languages that Data Scientists use\n",
    "- Commonly used libraries used by Data Scientists"
   ]
  },
  {
   "cell_type": "markdown",
   "id": "554eb668-56ca-4698-b4d8-754db72e4cec",
   "metadata": {},
   "source": [
    "## Author\n",
    "Mohammad Reza Akbari"
   ]
  },
  {
   "cell_type": "code",
   "execution_count": null,
   "id": "9fa1b080-6765-43ad-b678-1110ae7394fb",
   "metadata": {},
   "outputs": [],
   "source": []
  }
 ],
 "metadata": {
  "kernelspec": {
   "display_name": "Python 3 (ipykernel)",
   "language": "python",
   "name": "python3"
  },
  "language_info": {
   "codemirror_mode": {
    "name": "ipython",
    "version": 3
   },
   "file_extension": ".py",
   "mimetype": "text/x-python",
   "name": "python",
   "nbconvert_exporter": "python",
   "pygments_lexer": "ipython3",
   "version": "3.11.2"
  }
 },
 "nbformat": 4,
 "nbformat_minor": 5
}
